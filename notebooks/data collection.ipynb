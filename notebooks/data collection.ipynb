{
 "cells": [
  {
   "cell_type": "code",
   "execution_count": 7,
   "id": "135c4074",
   "metadata": {},
   "outputs": [
    {
     "name": "stdout",
     "output_type": "stream",
     "text": [
      "Collecting nltk\n",
      "  Downloading nltk-3.9.1-py3-none-any.whl.metadata (2.9 kB)\n",
      "Requirement already satisfied: pandas in /home/codespace/.local/lib/python3.12/site-packages (2.2.3)\n",
      "Requirement already satisfied: matplotlib in /home/codespace/.local/lib/python3.12/site-packages (3.9.2)\n",
      "Requirement already satisfied: seaborn in /home/codespace/.local/lib/python3.12/site-packages (0.13.2)\n",
      "Requirement already satisfied: numpy in /home/codespace/.local/lib/python3.12/site-packages (2.1.1)\n",
      "Requirement already satisfied: scikit-learn in /home/codespace/.local/lib/python3.12/site-packages (1.5.2)\n",
      "Requirement already satisfied: joblib in /home/codespace/.local/lib/python3.12/site-packages (1.4.2)\n",
      "Collecting click (from nltk)\n",
      "  Downloading click-8.1.7-py3-none-any.whl.metadata (3.0 kB)\n",
      "Collecting regex>=2021.8.3 (from nltk)\n",
      "  Downloading regex-2024.9.11-cp312-cp312-manylinux_2_17_x86_64.manylinux2014_x86_64.whl.metadata (40 kB)\n",
      "Collecting tqdm (from nltk)\n",
      "  Downloading tqdm-4.66.6-py3-none-any.whl.metadata (57 kB)\n",
      "Requirement already satisfied: python-dateutil>=2.8.2 in /home/codespace/.local/lib/python3.12/site-packages (from pandas) (2.9.0.post0)\n",
      "Requirement already satisfied: pytz>=2020.1 in /home/codespace/.local/lib/python3.12/site-packages (from pandas) (2024.2)\n",
      "Requirement already satisfied: tzdata>=2022.7 in /home/codespace/.local/lib/python3.12/site-packages (from pandas) (2024.2)\n",
      "Requirement already satisfied: contourpy>=1.0.1 in /home/codespace/.local/lib/python3.12/site-packages (from matplotlib) (1.3.0)\n",
      "Requirement already satisfied: cycler>=0.10 in /home/codespace/.local/lib/python3.12/site-packages (from matplotlib) (0.12.1)\n",
      "Requirement already satisfied: fonttools>=4.22.0 in /home/codespace/.local/lib/python3.12/site-packages (from matplotlib) (4.54.1)\n",
      "Requirement already satisfied: kiwisolver>=1.3.1 in /home/codespace/.local/lib/python3.12/site-packages (from matplotlib) (1.4.7)\n",
      "Requirement already satisfied: packaging>=20.0 in /home/codespace/.local/lib/python3.12/site-packages (from matplotlib) (24.1)\n",
      "Requirement already satisfied: pillow>=8 in /home/codespace/.local/lib/python3.12/site-packages (from matplotlib) (10.4.0)\n",
      "Requirement already satisfied: pyparsing>=2.3.1 in /home/codespace/.local/lib/python3.12/site-packages (from matplotlib) (3.1.4)\n",
      "Requirement already satisfied: scipy>=1.6.0 in /home/codespace/.local/lib/python3.12/site-packages (from scikit-learn) (1.14.1)\n",
      "Requirement already satisfied: threadpoolctl>=3.1.0 in /home/codespace/.local/lib/python3.12/site-packages (from scikit-learn) (3.5.0)\n",
      "Requirement already satisfied: six>=1.5 in /home/codespace/.local/lib/python3.12/site-packages (from python-dateutil>=2.8.2->pandas) (1.16.0)\n",
      "Downloading nltk-3.9.1-py3-none-any.whl (1.5 MB)\n",
      "\u001b[2K   \u001b[90m━━━━━━━━━━━━━━━━━━━━━━━━━━━━━━━━━━━━━━━━\u001b[0m \u001b[32m1.5/1.5 MB\u001b[0m \u001b[31m1.6 MB/s\u001b[0m eta \u001b[36m0:00:00\u001b[0meta \u001b[36m0:00:01\u001b[0m\n",
      "\u001b[?25hDownloading regex-2024.9.11-cp312-cp312-manylinux_2_17_x86_64.manylinux2014_x86_64.whl (797 kB)\n",
      "\u001b[2K   \u001b[90m━━━━━━━━━━━━━━━━━━━━━━━━━━━━━━━━━━━━━━━━\u001b[0m \u001b[32m797.0/797.0 kB\u001b[0m \u001b[31m6.8 MB/s\u001b[0m eta \u001b[36m0:00:00\u001b[0m\n",
      "\u001b[?25hDownloading click-8.1.7-py3-none-any.whl (97 kB)\n",
      "Downloading tqdm-4.66.6-py3-none-any.whl (78 kB)\n",
      "Installing collected packages: tqdm, regex, click, nltk\n",
      "Successfully installed click-8.1.7 nltk-3.9.1 regex-2024.9.11 tqdm-4.66.6\n",
      "\n",
      "\u001b[1m[\u001b[0m\u001b[34;49mnotice\u001b[0m\u001b[1;39;49m]\u001b[0m\u001b[39;49m A new release of pip is available: \u001b[0m\u001b[31;49m24.2\u001b[0m\u001b[39;49m -> \u001b[0m\u001b[32;49m24.3.1\u001b[0m\n",
      "\u001b[1m[\u001b[0m\u001b[34;49mnotice\u001b[0m\u001b[1;39;49m]\u001b[0m\u001b[39;49m To update, run: \u001b[0m\u001b[32;49mpip install --upgrade pip\u001b[0m\n",
      "Note: you may need to restart the kernel to use updated packages.\n"
     ]
    }
   ],
   "source": [
    "# Install necessary packages\n",
    "%pip install nltk pandas matplotlib seaborn numpy scikit-learn joblib"
   ]
  },
  {
   "cell_type": "code",
   "execution_count": null,
   "id": "62a22668",
   "metadata": {},
   "outputs": [
    {
     "name": "stderr",
     "output_type": "stream",
     "text": [
      "[nltk_data] Downloading package vader_lexicon to\n",
      "[nltk_data]     /home/codespace/nltk_data...\n"
     ]
    },
    {
     "data": {
      "text/plain": [
       "True"
      ]
     },
     "execution_count": 23,
     "metadata": {},
     "output_type": "execute_result"
    }
   ],
   "source": [
    "import pandas as pd\n",
    "import re\n",
    "import nltkfrom nltk.tokenize import word_tokenize\n",
    "from nltk.sentiment import SentimentIntensityAnalyzer\n",
    "from nltk.tokenize import word_tokenize\n",
    "nltk.download('vader_lexicon')"
   ]
  },
  {
   "cell_type": "code",
   "execution_count": 13,
   "id": "29306945",
   "metadata": {},
   "outputs": [],
   "source": [
    "requests = pd.read_csv('/workspaces/IST707.Pothole-Prediction-SYR/data/SYRCityline_Requests_(2021-Present).csv')\n",
    "weather = pd.read_csv('/workspaces/IST707.Pothole-Prediction-SYR/data/40_Year_Temperature_Dataset_SU-2.csv')\n",
    "ratings_2021 = pd.read_csv('/workspaces/IST707.Pothole-Prediction-SYR/data/Pavement_Ratings_(2021)-2.csv')\n",
    "ratings_2022 = pd.read_csv('/workspaces/IST707.Pothole-Prediction-SYR/data/Syracuse_Pavement_Ratings_(2022).csv')\n",
    "ratings_2023 = pd.read_csv('/workspaces/IST707.Pothole-Prediction-SYR/data/Syracuse_Ratings_Open_Data_Copy_2023_8469753568545483898.csv')\n",
    "streets = pd.read_csv('/workspaces/IST707.Pothole-Prediction-SYR/data/City_Streets_2011.csv')"
   ]
  },
  {
   "cell_type": "markdown",
   "id": "f375cf2d",
   "metadata": {},
   "source": [
    "Approach:\n",
    "1) Load the request data, filter out the pothole requests from 2021-2023\n",
    "2) Standardize the address in potholes and match with the street dictionary \n",
    "3) Concatenate the rating data\n",
    "4) Filter out temperature data\n",
    "5) Merge  "
   ]
  },
  {
   "cell_type": "code",
   "execution_count": 14,
   "id": "0747188b",
   "metadata": {},
   "outputs": [],
   "source": [
    "requests['Description'] = requests['Description'].astype(str)\n",
    "potholes = requests[requests['Category'] == 'Potholes']\n",
    "# Ensure the 'Date' column is in datetime format\n",
    "potholes = potholes[['Rating', 'Address', 'Description', 'Created_at_local', 'Minutes_to_closed']]\n",
    "potholes['Date'] = pd.to_datetime(potholes['Created_at_local'], format='%m/%d/%Y - %I:%M%p').dt.date\n",
    "# Define the date range\n",
    "start_date = pd.to_datetime(\"2021-01-01\").date()\n",
    "end_date = pd.to_datetime(\"2023-12-31\").date()\n",
    "# Filter the DataFrame to the specified range\n",
    "filtered_potholes = potholes[(potholes['Date'] >= start_date) & (potholes['Date'] <= end_date)]"
   ]
  },
  {
   "cell_type": "markdown",
   "id": "73052970",
   "metadata": {},
   "source": [
    "Clean up the street names column"
   ]
  },
  {
   "cell_type": "code",
   "execution_count": null,
   "id": "3d7cce9b",
   "metadata": {},
   "outputs": [
    {
     "name": "stderr",
     "output_type": "stream",
     "text": [
      "/tmp/ipykernel_12337/577753340.py:13: SettingWithCopyWarning: \n",
      "A value is trying to be set on a copy of a slice from a DataFrame.\n",
      "Try using .loc[row_indexer,col_indexer] = value instead\n",
      "\n",
      "See the caveats in the documentation: https://pandas.pydata.org/pandas-docs/stable/user_guide/indexing.html#returning-a-view-versus-a-copy\n",
      "  filtered_potholes['Street'] = filtered_potholes['Address'].apply(extract_clean_street_name)\n",
      "/tmp/ipykernel_12337/577753340.py:14: SettingWithCopyWarning: \n",
      "A value is trying to be set on a copy of a slice from a DataFrame.\n",
      "Try using .loc[row_indexer,col_indexer] = value instead\n",
      "\n",
      "See the caveats in the documentation: https://pandas.pydata.org/pandas-docs/stable/user_guide/indexing.html#returning-a-view-versus-a-copy\n",
      "  filtered_potholes['Street'] = filtered_potholes['Street'].astype(str)\n"
     ]
    }
   ],
   "source": [
    "# Function to extract cleaner street names\n",
    "def extract_clean_street_name(address):\n",
    "    # More strict extraction to focus on just the name and type\n",
    "    match = re.search(r'\\b([A-Za-z]+)\\s*(St|Street|Ave|Avenue|Blvd|Boulevard|Dr|Drive|Rd|Road|Ln|Lane|Way|Circle|Cir)\\b', address, re.IGNORECASE)\n",
    "    if match:\n",
    "        # Normalize the street name by removing common suffixes\n",
    "        street_name = match.group(1).strip().upper()  # Extract and normalize the base name\n",
    "        return street_name\n",
    "    else:\n",
    "        return None\n",
    "\n",
    "# Apply the revised function to the Address column\n",
    "filtered_potholes['Street'] = filtered_potholes['Address'].apply(extract_clean_street_name)\n",
    "filtered_potholes['Street'] = filtered_potholes['Street'].astype(str)"
   ]
  },
  {
   "cell_type": "markdown",
   "id": "f0a891e7",
   "metadata": {},
   "source": [
    "Caclulate sentiment analysis of potholes in relation to the street names"
   ]
  },
  {
   "cell_type": "code",
   "execution_count": 24,
   "id": "66963867",
   "metadata": {},
   "outputs": [
    {
     "ename": "NameError",
     "evalue": "name 'word_tokenize' is not defined",
     "output_type": "error",
     "traceback": [
      "\u001b[0;31m---------------------------------------------------------------------------\u001b[0m",
      "\u001b[0;31mNameError\u001b[0m                                 Traceback (most recent call last)",
      "\u001b[1;32m/workspaces/IST707.Pothole-Prediction-SYR/notebooks/data collection.ipynb Cell 9\u001b[0m line \u001b[0;36m1\n\u001b[1;32m     <a href='vscode-notebook-cell://codespaces%2Bhorrible-cobweb-g44j5jgqgp74hv7qw/workspaces/IST707.Pothole-Prediction-SYR/notebooks/data%20collection.ipynb#X13sdnNjb2RlLXJlbW90ZQ%3D%3D?line=12'>13</a>\u001b[0m     \u001b[39m# Return the compound sentiment score\u001b[39;00m\n\u001b[1;32m     <a href='vscode-notebook-cell://codespaces%2Bhorrible-cobweb-g44j5jgqgp74hv7qw/workspaces/IST707.Pothole-Prediction-SYR/notebooks/data%20collection.ipynb#X13sdnNjb2RlLXJlbW90ZQ%3D%3D?line=13'>14</a>\u001b[0m     \u001b[39mreturn\u001b[39;00m score\n\u001b[0;32m---> <a href='vscode-notebook-cell://codespaces%2Bhorrible-cobweb-g44j5jgqgp74hv7qw/workspaces/IST707.Pothole-Prediction-SYR/notebooks/data%20collection.ipynb#X13sdnNjb2RlLXJlbW90ZQ%3D%3D?line=15'>16</a>\u001b[0m filtered_potholes[\u001b[39m'\u001b[39m\u001b[39mSentimentScore\u001b[39m\u001b[39m'\u001b[39m] \u001b[39m=\u001b[39m filtered_potholes[\u001b[39m'\u001b[39;49m\u001b[39mDescription\u001b[39;49m\u001b[39m'\u001b[39;49m]\u001b[39m.\u001b[39;49mapply(sentiment_score)\n\u001b[1;32m     <a href='vscode-notebook-cell://codespaces%2Bhorrible-cobweb-g44j5jgqgp74hv7qw/workspaces/IST707.Pothole-Prediction-SYR/notebooks/data%20collection.ipynb#X13sdnNjb2RlLXJlbW90ZQ%3D%3D?line=17'>18</a>\u001b[0m \u001b[39mdef\u001b[39;00m \u001b[39mcategorize_severity\u001b[39m(score):\n\u001b[1;32m     <a href='vscode-notebook-cell://codespaces%2Bhorrible-cobweb-g44j5jgqgp74hv7qw/workspaces/IST707.Pothole-Prediction-SYR/notebooks/data%20collection.ipynb#X13sdnNjb2RlLXJlbW90ZQ%3D%3D?line=18'>19</a>\u001b[0m     \u001b[39mif\u001b[39;00m score \u001b[39m<\u001b[39m\u001b[39m=\u001b[39m \u001b[39m-\u001b[39m\u001b[39m0.5\u001b[39m:\n",
      "File \u001b[0;32m~/.local/lib/python3.12/site-packages/pandas/core/series.py:4924\u001b[0m, in \u001b[0;36mSeries.apply\u001b[0;34m(self, func, convert_dtype, args, by_row, **kwargs)\u001b[0m\n\u001b[1;32m   4789\u001b[0m \u001b[39mdef\u001b[39;00m \u001b[39mapply\u001b[39m(\n\u001b[1;32m   4790\u001b[0m     \u001b[39mself\u001b[39m,\n\u001b[1;32m   4791\u001b[0m     func: AggFuncType,\n\u001b[0;32m   (...)\u001b[0m\n\u001b[1;32m   4796\u001b[0m     \u001b[39m*\u001b[39m\u001b[39m*\u001b[39mkwargs,\n\u001b[1;32m   4797\u001b[0m ) \u001b[39m-\u001b[39m\u001b[39m>\u001b[39m DataFrame \u001b[39m|\u001b[39m Series:\n\u001b[1;32m   4798\u001b[0m \u001b[39m    \u001b[39m\u001b[39m\"\"\"\u001b[39;00m\n\u001b[1;32m   4799\u001b[0m \u001b[39m    Invoke function on values of Series.\u001b[39;00m\n\u001b[1;32m   4800\u001b[0m \n\u001b[0;32m   (...)\u001b[0m\n\u001b[1;32m   4915\u001b[0m \u001b[39m    dtype: float64\u001b[39;00m\n\u001b[1;32m   4916\u001b[0m \u001b[39m    \"\"\"\u001b[39;00m\n\u001b[1;32m   4917\u001b[0m     \u001b[39mreturn\u001b[39;00m SeriesApply(\n\u001b[1;32m   4918\u001b[0m         \u001b[39mself\u001b[39;49m,\n\u001b[1;32m   4919\u001b[0m         func,\n\u001b[1;32m   4920\u001b[0m         convert_dtype\u001b[39m=\u001b[39;49mconvert_dtype,\n\u001b[1;32m   4921\u001b[0m         by_row\u001b[39m=\u001b[39;49mby_row,\n\u001b[1;32m   4922\u001b[0m         args\u001b[39m=\u001b[39;49margs,\n\u001b[1;32m   4923\u001b[0m         kwargs\u001b[39m=\u001b[39;49mkwargs,\n\u001b[0;32m-> 4924\u001b[0m     )\u001b[39m.\u001b[39;49mapply()\n",
      "File \u001b[0;32m~/.local/lib/python3.12/site-packages/pandas/core/apply.py:1427\u001b[0m, in \u001b[0;36mSeriesApply.apply\u001b[0;34m(self)\u001b[0m\n\u001b[1;32m   1424\u001b[0m     \u001b[39mreturn\u001b[39;00m \u001b[39mself\u001b[39m\u001b[39m.\u001b[39mapply_compat()\n\u001b[1;32m   1426\u001b[0m \u001b[39m# self.func is Callable\u001b[39;00m\n\u001b[0;32m-> 1427\u001b[0m \u001b[39mreturn\u001b[39;00m \u001b[39mself\u001b[39;49m\u001b[39m.\u001b[39;49mapply_standard()\n",
      "File \u001b[0;32m~/.local/lib/python3.12/site-packages/pandas/core/apply.py:1507\u001b[0m, in \u001b[0;36mSeriesApply.apply_standard\u001b[0;34m(self)\u001b[0m\n\u001b[1;32m   1501\u001b[0m \u001b[39m# row-wise access\u001b[39;00m\n\u001b[1;32m   1502\u001b[0m \u001b[39m# apply doesn't have a `na_action` keyword and for backward compat reasons\u001b[39;00m\n\u001b[1;32m   1503\u001b[0m \u001b[39m# we need to give `na_action=\"ignore\"` for categorical data.\u001b[39;00m\n\u001b[1;32m   1504\u001b[0m \u001b[39m# TODO: remove the `na_action=\"ignore\"` when that default has been changed in\u001b[39;00m\n\u001b[1;32m   1505\u001b[0m \u001b[39m#  Categorical (GH51645).\u001b[39;00m\n\u001b[1;32m   1506\u001b[0m action \u001b[39m=\u001b[39m \u001b[39m\"\u001b[39m\u001b[39mignore\u001b[39m\u001b[39m\"\u001b[39m \u001b[39mif\u001b[39;00m \u001b[39misinstance\u001b[39m(obj\u001b[39m.\u001b[39mdtype, CategoricalDtype) \u001b[39melse\u001b[39;00m \u001b[39mNone\u001b[39;00m\n\u001b[0;32m-> 1507\u001b[0m mapped \u001b[39m=\u001b[39m obj\u001b[39m.\u001b[39;49m_map_values(\n\u001b[1;32m   1508\u001b[0m     mapper\u001b[39m=\u001b[39;49mcurried, na_action\u001b[39m=\u001b[39;49maction, convert\u001b[39m=\u001b[39;49m\u001b[39mself\u001b[39;49m\u001b[39m.\u001b[39;49mconvert_dtype\n\u001b[1;32m   1509\u001b[0m )\n\u001b[1;32m   1511\u001b[0m \u001b[39mif\u001b[39;00m \u001b[39mlen\u001b[39m(mapped) \u001b[39mand\u001b[39;00m \u001b[39misinstance\u001b[39m(mapped[\u001b[39m0\u001b[39m], ABCSeries):\n\u001b[1;32m   1512\u001b[0m     \u001b[39m# GH#43986 Need to do list(mapped) in order to get treated as nested\u001b[39;00m\n\u001b[1;32m   1513\u001b[0m     \u001b[39m#  See also GH#25959 regarding EA support\u001b[39;00m\n\u001b[1;32m   1514\u001b[0m     \u001b[39mreturn\u001b[39;00m obj\u001b[39m.\u001b[39m_constructor_expanddim(\u001b[39mlist\u001b[39m(mapped), index\u001b[39m=\u001b[39mobj\u001b[39m.\u001b[39mindex)\n",
      "File \u001b[0;32m~/.local/lib/python3.12/site-packages/pandas/core/base.py:921\u001b[0m, in \u001b[0;36mIndexOpsMixin._map_values\u001b[0;34m(self, mapper, na_action, convert)\u001b[0m\n\u001b[1;32m    918\u001b[0m \u001b[39mif\u001b[39;00m \u001b[39misinstance\u001b[39m(arr, ExtensionArray):\n\u001b[1;32m    919\u001b[0m     \u001b[39mreturn\u001b[39;00m arr\u001b[39m.\u001b[39mmap(mapper, na_action\u001b[39m=\u001b[39mna_action)\n\u001b[0;32m--> 921\u001b[0m \u001b[39mreturn\u001b[39;00m algorithms\u001b[39m.\u001b[39;49mmap_array(arr, mapper, na_action\u001b[39m=\u001b[39;49mna_action, convert\u001b[39m=\u001b[39;49mconvert)\n",
      "File \u001b[0;32m~/.local/lib/python3.12/site-packages/pandas/core/algorithms.py:1743\u001b[0m, in \u001b[0;36mmap_array\u001b[0;34m(arr, mapper, na_action, convert)\u001b[0m\n\u001b[1;32m   1741\u001b[0m values \u001b[39m=\u001b[39m arr\u001b[39m.\u001b[39mastype(\u001b[39mobject\u001b[39m, copy\u001b[39m=\u001b[39m\u001b[39mFalse\u001b[39;00m)\n\u001b[1;32m   1742\u001b[0m \u001b[39mif\u001b[39;00m na_action \u001b[39mis\u001b[39;00m \u001b[39mNone\u001b[39;00m:\n\u001b[0;32m-> 1743\u001b[0m     \u001b[39mreturn\u001b[39;00m lib\u001b[39m.\u001b[39;49mmap_infer(values, mapper, convert\u001b[39m=\u001b[39;49mconvert)\n\u001b[1;32m   1744\u001b[0m \u001b[39melse\u001b[39;00m:\n\u001b[1;32m   1745\u001b[0m     \u001b[39mreturn\u001b[39;00m lib\u001b[39m.\u001b[39mmap_infer_mask(\n\u001b[1;32m   1746\u001b[0m         values, mapper, mask\u001b[39m=\u001b[39misna(values)\u001b[39m.\u001b[39mview(np\u001b[39m.\u001b[39muint8), convert\u001b[39m=\u001b[39mconvert\n\u001b[1;32m   1747\u001b[0m     )\n",
      "File \u001b[0;32mlib.pyx:2972\u001b[0m, in \u001b[0;36mpandas._libs.lib.map_infer\u001b[0;34m()\u001b[0m\n",
      "\u001b[1;32m/workspaces/IST707.Pothole-Prediction-SYR/notebooks/data collection.ipynb Cell 9\u001b[0m line \u001b[0;36m5\n\u001b[1;32m      <a href='vscode-notebook-cell://codespaces%2Bhorrible-cobweb-g44j5jgqgp74hv7qw/workspaces/IST707.Pothole-Prediction-SYR/notebooks/data%20collection.ipynb#X13sdnNjb2RlLXJlbW90ZQ%3D%3D?line=2'>3</a>\u001b[0m \u001b[39mdef\u001b[39;00m \u001b[39msentiment_score\u001b[39m(description):\n\u001b[1;32m      <a href='vscode-notebook-cell://codespaces%2Bhorrible-cobweb-g44j5jgqgp74hv7qw/workspaces/IST707.Pothole-Prediction-SYR/notebooks/data%20collection.ipynb#X13sdnNjb2RlLXJlbW90ZQ%3D%3D?line=3'>4</a>\u001b[0m     \u001b[39m# Tokenize the description\u001b[39;00m\n\u001b[0;32m----> <a href='vscode-notebook-cell://codespaces%2Bhorrible-cobweb-g44j5jgqgp74hv7qw/workspaces/IST707.Pothole-Prediction-SYR/notebooks/data%20collection.ipynb#X13sdnNjb2RlLXJlbW90ZQ%3D%3D?line=4'>5</a>\u001b[0m     tokens \u001b[39m=\u001b[39m word_tokenize(description)\n\u001b[1;32m      <a href='vscode-notebook-cell://codespaces%2Bhorrible-cobweb-g44j5jgqgp74hv7qw/workspaces/IST707.Pothole-Prediction-SYR/notebooks/data%20collection.ipynb#X13sdnNjb2RlLXJlbW90ZQ%3D%3D?line=6'>7</a>\u001b[0m     \u001b[39m# Join the tokens back into a string (optional step, depending on your approach)\u001b[39;00m\n\u001b[1;32m      <a href='vscode-notebook-cell://codespaces%2Bhorrible-cobweb-g44j5jgqgp74hv7qw/workspaces/IST707.Pothole-Prediction-SYR/notebooks/data%20collection.ipynb#X13sdnNjb2RlLXJlbW90ZQ%3D%3D?line=7'>8</a>\u001b[0m     text \u001b[39m=\u001b[39m \u001b[39m'\u001b[39m\u001b[39m \u001b[39m\u001b[39m'\u001b[39m\u001b[39m.\u001b[39mjoin(tokens)\n",
      "\u001b[0;31mNameError\u001b[0m: name 'word_tokenize' is not defined"
     ]
    }
   ],
   "source": [
    "sia = SentimentIntensityAnalyzer()\n",
    "\n",
    "def sentiment_score(description):\n",
    "    # Tokenize the description\n",
    "    tokens = word_tokenize(description)\n",
    "    \n",
    "    # Join the tokens back into a string (optional step, depending on your approach)\n",
    "    text = ' '.join(tokens)\n",
    "    \n",
    "    # Calculate sentiment score\n",
    "    score = sia.polarity_scores(text)['compound']\n",
    "    \n",
    "    # Return the compound sentiment score\n",
    "    return score\n",
    "\n",
    "filtered_potholes['SentimentScore'] = filtered_potholes['Description'].apply(sentiment_score)\n",
    "\n",
    "def categorize_severity(score):\n",
    "    if score <= -0.5:\n",
    "        return 'high'\n",
    "    elif score <= 0:\n",
    "        return 'medium'\n",
    "    else:\n",
    "        return 'low'\n",
    "\n",
    "filtered_potholes['SeverityLevel'] = filtered_potholes['SentimentScore'].apply(categorize_severity)\n",
    "\n",
    "potholes_agg = filtered_potholes.groupby(['Date', 'Street']).agg({\n",
    "    'SentimentScore': 'mean',  # Average sentiment score per day\n",
    "    'SeverityLevel': lambda x: x.mode()[0] if not x.empty else None,  # Most common severity level per day\n",
    "    'Description': 'count',  # Count the number of reports per day\n",
    "    'Rating': 'mean',  # Average rating\n",
    "    'Minutes_to_closed': 'mean'  # Average minutes to close\n",
    "}).rename(columns={'Description': 'Potholes_Count'}).reset_index()\n",
    "\n",
    "# potholes_agg['Date'] = pd.to_datetime(potholes_agg['Date'])\n",
    "potholes_agg.head()"
   ]
  },
  {
   "cell_type": "code",
   "execution_count": null,
   "id": "cd15ba89",
   "metadata": {},
   "outputs": [],
   "source": []
  }
 ],
 "metadata": {
  "language_info": {
   "name": "python"
  }
 },
 "nbformat": 4,
 "nbformat_minor": 5
}
