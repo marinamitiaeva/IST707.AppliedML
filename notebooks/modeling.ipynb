{
 "cells": [
  {
   "cell_type": "code",
   "execution_count": 1,
   "metadata": {},
   "outputs": [
    {
     "name": "stdout",
     "output_type": "stream",
     "text": [
      "Requirement already satisfied: nltk in /home/codespace/.python/current/lib/python3.12/site-packages (3.9.1)\n",
      "Requirement already satisfied: pandas in /home/codespace/.local/lib/python3.12/site-packages (2.2.3)\n",
      "Requirement already satisfied: matplotlib in /home/codespace/.local/lib/python3.12/site-packages (3.9.2)\n",
      "Requirement already satisfied: seaborn in /home/codespace/.local/lib/python3.12/site-packages (0.13.2)\n",
      "Requirement already satisfied: numpy in /home/codespace/.local/lib/python3.12/site-packages (2.1.1)\n",
      "Requirement already satisfied: scikit-learn in /home/codespace/.local/lib/python3.12/site-packages (1.5.2)\n",
      "Requirement already satisfied: joblib in /home/codespace/.local/lib/python3.12/site-packages (1.4.2)\n",
      "Requirement already satisfied: click in /home/codespace/.python/current/lib/python3.12/site-packages (from nltk) (8.1.7)\n",
      "Requirement already satisfied: regex>=2021.8.3 in /home/codespace/.python/current/lib/python3.12/site-packages (from nltk) (2024.9.11)\n",
      "Requirement already satisfied: tqdm in /home/codespace/.python/current/lib/python3.12/site-packages (from nltk) (4.66.6)\n",
      "Requirement already satisfied: python-dateutil>=2.8.2 in /home/codespace/.local/lib/python3.12/site-packages (from pandas) (2.9.0.post0)\n",
      "Requirement already satisfied: pytz>=2020.1 in /home/codespace/.local/lib/python3.12/site-packages (from pandas) (2024.2)\n",
      "Requirement already satisfied: tzdata>=2022.7 in /home/codespace/.local/lib/python3.12/site-packages (from pandas) (2024.2)\n",
      "Requirement already satisfied: contourpy>=1.0.1 in /home/codespace/.local/lib/python3.12/site-packages (from matplotlib) (1.3.0)\n",
      "Requirement already satisfied: cycler>=0.10 in /home/codespace/.local/lib/python3.12/site-packages (from matplotlib) (0.12.1)\n",
      "Requirement already satisfied: fonttools>=4.22.0 in /home/codespace/.local/lib/python3.12/site-packages (from matplotlib) (4.54.1)\n",
      "Requirement already satisfied: kiwisolver>=1.3.1 in /home/codespace/.local/lib/python3.12/site-packages (from matplotlib) (1.4.7)\n",
      "Requirement already satisfied: packaging>=20.0 in /home/codespace/.local/lib/python3.12/site-packages (from matplotlib) (24.1)\n",
      "Requirement already satisfied: pillow>=8 in /home/codespace/.local/lib/python3.12/site-packages (from matplotlib) (10.4.0)\n",
      "Requirement already satisfied: pyparsing>=2.3.1 in /home/codespace/.local/lib/python3.12/site-packages (from matplotlib) (3.1.4)\n",
      "Requirement already satisfied: scipy>=1.6.0 in /home/codespace/.local/lib/python3.12/site-packages (from scikit-learn) (1.14.1)\n",
      "Requirement already satisfied: threadpoolctl>=3.1.0 in /home/codespace/.local/lib/python3.12/site-packages (from scikit-learn) (3.5.0)\n",
      "Requirement already satisfied: six>=1.5 in /home/codespace/.local/lib/python3.12/site-packages (from python-dateutil>=2.8.2->pandas) (1.16.0)\n",
      "\n",
      "\u001b[1m[\u001b[0m\u001b[34;49mnotice\u001b[0m\u001b[1;39;49m]\u001b[0m\u001b[39;49m A new release of pip is available: \u001b[0m\u001b[31;49m24.2\u001b[0m\u001b[39;49m -> \u001b[0m\u001b[32;49m24.3.1\u001b[0m\n",
      "\u001b[1m[\u001b[0m\u001b[34;49mnotice\u001b[0m\u001b[1;39;49m]\u001b[0m\u001b[39;49m To update, run: \u001b[0m\u001b[32;49mpip install --upgrade pip\u001b[0m\n",
      "Note: you may need to restart the kernel to use updated packages.\n"
     ]
    }
   ],
   "source": [
    "# Install necessary packages\n",
    "%pip install nltk pandas matplotlib seaborn numpy scikit-learn joblib"
   ]
  },
  {
   "cell_type": "code",
   "execution_count": 2,
   "metadata": {},
   "outputs": [
    {
     "name": "stderr",
     "output_type": "stream",
     "text": [
      "[nltk_data] Downloading package vader_lexicon to\n",
      "[nltk_data]     /home/codespace/nltk_data...\n",
      "[nltk_data]   Package vader_lexicon is already up-to-date!\n",
      "[nltk_data] Downloading package punkt to /home/codespace/nltk_data...\n",
      "[nltk_data]   Package punkt is already up-to-date!\n"
     ]
    },
    {
     "data": {
      "text/plain": [
       "True"
      ]
     },
     "execution_count": 2,
     "metadata": {},
     "output_type": "execute_result"
    }
   ],
   "source": [
    "import pandas as pd\n",
    "import nltk\n",
    "from nltk.tokenize import word_tokenize\n",
    "from nltk.sentiment import SentimentIntensityAnalyzer\n",
    "from matplotlib import pyplot as plt\n",
    "import seaborn as sns\n",
    "import numpy as np\n",
    "from sklearn.model_selection import train_test_split\n",
    "from sklearn.linear_model import LinearRegression, Ridge, Lasso, ElasticNet\n",
    "from sklearn.metrics import mean_squared_error\n",
    "from sklearn.preprocessing import StandardScaler, OneHotEncoder\n",
    "from sklearn.pipeline import Pipeline\n",
    "from sklearn.impute import SimpleImputer\n",
    "from sklearn.compose import ColumnTransformer\n",
    "from sklearn.ensemble import StackingRegressor, RandomForestRegressor, GradientBoostingRegressor\n",
    "from sklearn.decomposition import PCA\n",
    "import re\n",
    "from scipy.stats import chi2_contingency\n",
    "from sklearn.base import BaseEstimator, TransformerMixin\n",
    "from sklearn.preprocessing import PolynomialFeatures, KBinsDiscretizer\n",
    "from sklearn.svm import SVR\n",
    "from sklearn.ensemble import VotingRegressor\n",
    "import joblib  # For saving the model\n",
    "from sklearn.model_selection import GridSearchCV\n",
    "\n",
    "nltk.download('vader_lexicon')\n",
    "nltk.download('punkt')"
   ]
  },
  {
   "cell_type": "code",
   "execution_count": 3,
   "metadata": {},
   "outputs": [],
   "source": [
    "pd.set_option('display.max_columns', 500)"
   ]
  },
  {
   "cell_type": "code",
   "execution_count": 4,
   "metadata": {},
   "outputs": [],
   "source": [
    "final_data = pd.read_csv('/workspaces/IST707.Pothole-Prediction-SYR/data/processed/final_data.csv')"
   ]
  },
  {
   "cell_type": "markdown",
   "metadata": {},
   "source": [
    "### Initial modeling with less data (checkpoint 2)"
   ]
  },
  {
   "cell_type": "code",
   "execution_count": 5,
   "metadata": {},
   "outputs": [],
   "source": [
    "df = pd.read_csv('/workspaces/IST707.Pothole-Prediction-SYR/data/raw/SYRCityline_Requests_(2021-Present).csv')\n",
    "weather_df = pd.read_csv('/workspaces/IST707.Pothole-Prediction-SYR/data/raw/40_Year_Temperature_Dataset_SU-2.csv')"
   ]
  },
  {
   "cell_type": "code",
   "execution_count": 6,
   "metadata": {},
   "outputs": [
    {
     "name": "stderr",
     "output_type": "stream",
     "text": [
      "/tmp/ipykernel_20309/405860385.py:1: UserWarning: Could not infer format, so each element will be parsed individually, falling back to `dateutil`. To ensure parsing is consistent and as-expected, please specify a format.\n",
      "  df['Created_at_local'] = pd.to_datetime(df['Created_at_local'])\n",
      "/tmp/ipykernel_20309/405860385.py:20: SettingWithCopyWarning: \n",
      "A value is trying to be set on a copy of a slice from a DataFrame.\n",
      "Try using .loc[row_indexer,col_indexer] = value instead\n",
      "\n",
      "See the caveats in the documentation: https://pandas.pydata.org/pandas-docs/stable/user_guide/indexing.html#returning-a-view-versus-a-copy\n",
      "  potholes_df['SentimentScore'] = potholes_df['Description'].apply(sentiment_score)\n",
      "/tmp/ipykernel_20309/405860385.py:30: SettingWithCopyWarning: \n",
      "A value is trying to be set on a copy of a slice from a DataFrame.\n",
      "Try using .loc[row_indexer,col_indexer] = value instead\n",
      "\n",
      "See the caveats in the documentation: https://pandas.pydata.org/pandas-docs/stable/user_guide/indexing.html#returning-a-view-versus-a-copy\n",
      "  potholes_df['SeverityLevel'] = potholes_df['SentimentScore'].apply(categorize_severity)\n"
     ]
    }
   ],
   "source": [
    "df['Created_at_local'] = pd.to_datetime(df['Created_at_local'])\n",
    "df['Description'] = df['Description'].astype(str)\n",
    "potholes_df = df[df['Category'] == 'Potholes']\n",
    "\n",
    "sia = SentimentIntensityAnalyzer()\n",
    "\n",
    "def sentiment_score(description):\n",
    "    # Tokenize the description\n",
    "    tokens = word_tokenize(description)\n",
    "    \n",
    "    # Join the tokens back into a string (optional step, depending on your approach)\n",
    "    text = ' '.join(tokens)\n",
    "    \n",
    "    # Calculate sentiment score\n",
    "    score = sia.polarity_scores(text)['compound']\n",
    "    \n",
    "    # Return the compound sentiment score\n",
    "    return score\n",
    "\n",
    "potholes_df['SentimentScore'] = potholes_df['Description'].apply(sentiment_score)\n",
    "\n",
    "def categorize_severity(score):\n",
    "    if score <= -0.5:\n",
    "        return 'high'\n",
    "    elif score <= 0:\n",
    "        return 'medium'\n",
    "    else:\n",
    "        return 'low'\n",
    "\n",
    "potholes_df['SeverityLevel'] = potholes_df['SentimentScore'].apply(categorize_severity)\n",
    "\n",
    "\n",
    "potholes_agg = potholes_df.groupby(potholes_df['Created_at_local'].dt.date).agg({\n",
    "    'SentimentScore': 'mean',  # Average sentiment score per day\n",
    "    'SeverityLevel': lambda x: x.mode()[0],  # Most common severity level per day\n",
    "    'Description': 'count'  # Count the number of reports per day\n",
    "}).rename(columns={'Description': 'Potholes_Count'}).reset_index().rename(columns={'Created_at_local': 'Date'})\n",
    "potholes_agg['Date'] = pd.to_datetime(potholes_agg['Date'])"
   ]
  },
  {
   "cell_type": "code",
   "execution_count": 7,
   "metadata": {},
   "outputs": [],
   "source": [
    "# Convert 'Year', 'Month', and 'Day' columns to a single datetime column\n",
    "weather_df['Date'] = pd.to_datetime(weather_df[['Year', 'Month', 'Day']])\n",
    "weather_df = weather_df[weather_df['Year'] >= 2021]\n",
    "weather_df = weather_df.drop(['Year', 'Month', 'Day'], axis=1)"
   ]
  },
  {
   "cell_type": "code",
   "execution_count": 8,
   "metadata": {},
   "outputs": [],
   "source": [
    "merged_df = pd.merge(weather_df, potholes_agg, on='Date', how='left')\n",
    "\n",
    "merged_df = merged_df.fillna({\n",
    "    'SentimentScore': 0,\n",
    "    'Potholes_Count': 0,\n",
    "    'SeverityLevel': 'unknown'\n",
    "})"
   ]
  },
  {
   "cell_type": "code",
   "execution_count": 9,
   "metadata": {},
   "outputs": [
    {
     "data": {
      "text/plain": [
       "Text(0.5, 1.05, \"Numerical features correlation (Pearson's)\")"
      ]
     },
     "execution_count": 9,
     "metadata": {},
     "output_type": "execute_result"
    },
    {
     "data": {
      "image/png": "[encoded data removed]",
      "text/plain": [
       "<Figure size 1100x600 with 2 Axes>"
      ]
     },
     "metadata": {},
     "output_type": "display_data"
    }
   ],
   "source": [
    "# numerical fearures\n",
    "num_feats = ['Temp at Recording', 'Dew Point / Frost Point', 'Wet Bulb Temp', 'Surface Temperature', 'Temperature Range', 'Temp Max', 'Temp Min', 'Specific Humidity', 'Relative Humidity', 'Precipitation', 'SentimentScore', 'Potholes_Count']\n",
    "# categorical \n",
    "cat_feats = ['SeverityLevel']\n",
    "\n",
    "mypal= ['#FC05FB', '#FEAEFE', '#FCD2FC','#F3FEFA', '#B4FFE4','#3FFEBA']\n",
    "\n",
    "df_ = merged_df[num_feats]\n",
    "corr = df_.corr(method='pearson')\n",
    "mask = np.triu(np.ones_like(corr, dtype=bool))\n",
    "f, ax = plt.subplots(figsize=(11, 6), facecolor=None)\n",
    "cmap = sns.color_palette(mypal, as_cmap=True)\n",
    "sns.heatmap(corr, mask=mask, cmap=cmap, vmax=1.0, vmin=-1.0, center=0, annot=True,\n",
    "            square=False, linewidths=.5, cbar_kws={\"shrink\": 0.75})\n",
    "ax.set_title(\"Numerical features correlation (Pearson's)\", fontsize=15, y= 1.05)"
   ]
  },
  {
   "cell_type": "code",
   "execution_count": 10,
   "metadata": {},
   "outputs": [],
   "source": [
    "# split the data\n",
    "\n",
    "seed = 42\n",
    "test_size = 0.2\n",
    "\n",
    "df_ = merged_df.copy()\n",
    "y = df_[\"Potholes_Count\"]\n",
    "X = df_.drop(\"Potholes_Count\", axis=1)\n",
    "\n",
    "X_train, X_test, y_train, y_test = train_test_split(X, y, test_size=test_size, random_state=seed)"
   ]
  },
  {
   "cell_type": "code",
   "execution_count": 11,
   "metadata": {},
   "outputs": [],
   "source": [
    "# define numeric and categorical features\n",
    "\n",
    "# numerical fearures\n",
    "numeric_features = ['Temp at Recording', 'Dew Point / Frost Point', 'Wet Bulb Temp', 'Surface Temperature', 'Temperature Range', 'Temp Max', 'Temp Min', 'Specific Humidity', 'Relative Humidity', 'Precipitation', 'SentimentScore']\n",
    "# caterorical \n",
    "categorical_features = ['SeverityLevel', 'Date']"
   ]
  },
  {
   "cell_type": "code",
   "execution_count": 12,
   "metadata": {},
   "outputs": [],
   "source": [
    "# preprocessing \n",
    "\n",
    "# define the preprocessing for numeric columns\n",
    "numeric_transformer = Pipeline(steps=[\n",
    "    ('imputer', SimpleImputer(strategy='mean')),  # impute missing values with mean\n",
    "    ('scaler', StandardScaler()) # scale\n",
    "])\n",
    "\n",
    "# define the preprocessing for categorical columns\n",
    "categorical_transformer = Pipeline(steps=[\n",
    "    ('imputer', SimpleImputer(strategy='most_frequent')),  # impute missing values te most frequent value\n",
    "    ('onehot', OneHotEncoder(handle_unknown='ignore')) # encoding\n",
    "])\n",
    "\n",
    "# define the transformer\n",
    "preprocessor = ColumnTransformer(transformers=[\n",
    "    ('num', numeric_transformer, numeric_features),\n",
    "    ('cat', categorical_transformer, categorical_features)\n",
    "])"
   ]
  },
  {
   "cell_type": "code",
   "execution_count": 13,
   "metadata": {},
   "outputs": [
    {
     "name": "stdout",
     "output_type": "stream",
     "text": [
      "Mean Squared Error: 5.9122068510423\n"
     ]
    },
    {
     "name": "stderr",
     "output_type": "stream",
     "text": [
      "/tmp/ipykernel_20309/4080929897.py:22: FutureWarning: The behavior of DataFrame concatenation with empty or all-NA entries is deprecated. In a future version, this will no longer exclude empty or all-NA columns when determining the result dtypes. To retain the old behavior, exclude the relevant entries before the concat operation.\n",
      "  mse_results = pd.concat([mse_results, new_data], ignore_index=True)\n"
     ]
    }
   ],
   "source": [
    "# Initialize the Linear Regression model\n",
    "lr = LinearRegression()\n",
    "\n",
    "pipeline = Pipeline([\n",
    "    ('preprocessor', preprocessor),\n",
    "    ('classifier', lr)\n",
    "])\n",
    "\n",
    "# Fit the model on the training data\n",
    "pipeline.fit(X_train, y_train)\n",
    "\n",
    "# Predict potholes count on the testing data\n",
    "y_pred = pipeline.predict(X_test)\n",
    "\n",
    "# Evaluate the model\n",
    "mse = mean_squared_error(y_test, y_pred)\n",
    "print(\"Mean Squared Error:\", mse)\n",
    "\n",
    "# Initialize an empty DataFrame to store MSE values\n",
    "mse_results = pd.DataFrame(columns=['Model', 'MSE'])\n",
    "new_data = pd.DataFrame({'Model': ['Less data + lr'], 'MSE': [mse]})\n",
    "mse_results = pd.concat([mse_results, new_data], ignore_index=True)"
   ]
  },
  {
   "cell_type": "markdown",
   "metadata": {},
   "source": [
    "### Final modeling with experiments (chekpoint 3)"
   ]
  },
  {
   "cell_type": "code",
   "execution_count": 14,
   "metadata": {},
   "outputs": [],
   "source": [
    "# Set your seed and test size\n",
    "seed = 42\n",
    "test_size = 0.2 \n",
    "validation_size = 0.25  # from the remaining 80%, let's use 25% of it, i.e., 20% of the original, for validation\n",
    "\n",
    "# Copy the DataFrame\n",
    "df_ = final_data.copy()\n",
    "\n",
    "# Separate the target variable ('Potholes_Count') from the features\n",
    "y = df_[\"Potholes_Count\"]\n",
    "X = df_.drop(\"Potholes_Count\", axis=1)\n",
    "\n",
    "# Split the data\n",
    "X_train, X_temp, y_train, y_temp = train_test_split(X, y, test_size=test_size + validation_size, random_state=seed)\n",
    "X_val, X_test, y_val, y_test = train_test_split(X_temp, y_temp, test_size=test_size / (test_size + validation_size), random_state=seed)\n"
   ]
  },
  {
   "cell_type": "markdown",
   "metadata": {},
   "source": [
    "1. Baseline - model with all features and Linear Regression model"
   ]
  },
  {
   "cell_type": "code",
   "execution_count": 15,
   "metadata": {},
   "outputs": [],
   "source": [
    "# define numeric and categorical features\n",
    "\n",
    "# numerical fearures\n",
    "numeric_features = ['Temp at Recording', \n",
    "                    'Dew Point / Frost Point', \n",
    "                    'Wet Bulb Temp', \n",
    "                    'Surface Temperature', \n",
    "                    'Temperature Range', \n",
    "                    'Temp Max', \n",
    "                    'Temp Min', \n",
    "                    'Specific Humidity', \n",
    "                    'Relative Humidity', \n",
    "                    'Precipitation', \n",
    "                    'Pavement_rating', \n",
    "                    'Miles', \n",
    "                    'Shape__Length',\n",
    "                    'SentimentScore', \n",
    "                    'Rating', \n",
    "                    'Minutes_to_closed']\n",
    "# caterorical \n",
    "categorical_features = ['SeverityLevel', 'Matched_Street','Date']"
   ]
  },
  {
   "cell_type": "markdown",
   "metadata": {},
   "source": [
    "run the preprocessing pipelines for categorical and numerical columnns and run through a transformer"
   ]
  },
  {
   "cell_type": "code",
   "execution_count": 16,
   "metadata": {},
   "outputs": [],
   "source": [
    "# preprocessing \n",
    "\n",
    "# define the preprocessing for numeric columns\n",
    "numeric_transformer = Pipeline(steps=[\n",
    "    ('imputer', SimpleImputer(strategy='mean')),  # impute missing values with mean\n",
    "    ('scaler', StandardScaler()) # scale\n",
    "])\n",
    "\n",
    "# define the preprocessing for categorical columns\n",
    "categorical_transformer = Pipeline(steps=[\n",
    "    ('imputer', SimpleImputer(strategy='most_frequent')),  # impute missing values te most frequent value\n",
    "    ('onehot', OneHotEncoder(handle_unknown='ignore')) # encoding\n",
    "])\n",
    "\n",
    "# define the transformer\n",
    "preprocessor = ColumnTransformer(transformers=[\n",
    "    ('num', numeric_transformer, numeric_features),\n",
    "    ('cat', categorical_transformer, categorical_features)\n",
    "])"
   ]
  },
  {
   "cell_type": "markdown",
   "metadata": {},
   "source": [
    "run a linear regression model "
   ]
  },
  {
   "cell_type": "code",
   "execution_count": 17,
   "metadata": {},
   "outputs": [
    {
     "name": "stdout",
     "output_type": "stream",
     "text": [
      "Mean Squared Error: 0.14658292446471866\n"
     ]
    }
   ],
   "source": [
    "# Initialize the Linear Regression model\n",
    "lr = LinearRegression()\n",
    "\n",
    "pipeline = Pipeline([\n",
    "    ('preprocessor', preprocessor),\n",
    "    ('regressor', lr)\n",
    "])\n",
    "\n",
    "# Fit the model on the training data\n",
    "pipeline.fit(X_train, y_train)\n",
    "\n",
    "# Predict potholes count on the testing data\n",
    "y_pred = pipeline.predict(X_val)\n",
    "\n",
    "# Evaluate the model\n",
    "mse = mean_squared_error(y_val, y_pred)\n",
    "print(\"Mean Squared Error:\", mse)"
   ]
  },
  {
   "cell_type": "markdown",
   "metadata": {},
   "source": [
    "Mean Squared error is much smaller with the added data sets than with the original two sets"
   ]
  },
  {
   "cell_type": "code",
   "execution_count": 18,
   "metadata": {},
   "outputs": [],
   "source": [
    "# Initialize an empty DataFrame to store MSE values\n",
    "new_data = pd.DataFrame({'Model': ['All feats + lr'], 'MSE': [mse]})\n",
    "mse_results = pd.concat([mse_results, new_data], ignore_index=True)"
   ]
  },
  {
   "cell_type": "markdown",
   "metadata": {},
   "source": [
    "2. Drop the highly correlated features"
   ]
  },
  {
   "cell_type": "code",
   "execution_count": 19,
   "metadata": {},
   "outputs": [],
   "source": [
    "# Retain one temperature feature (for example) and drop the highly correlated ones\n",
    "numeric_features2 = [\n",
    "    'Surface Temperature',  # Chosen temperature feature\n",
    "    'Temperature Range', \n",
    "    'Specific Humidity', \n",
    "    'Relative Humidity', \n",
    "    'Precipitation', \n",
    "    'Pavement_rating', \n",
    "    'Miles', \n",
    "    'Shape__Length',\n",
    "    'SentimentScore', \n",
    "    'Rating', \n",
    "    'Minutes_to_closed'\n",
    "]"
   ]
  },
  {
   "cell_type": "markdown",
   "metadata": {},
   "source": [
    "Rerun the transformer and regression only on one of the temperature features, rather than the set that are highly correlated"
   ]
  },
  {
   "cell_type": "code",
   "execution_count": 20,
   "metadata": {},
   "outputs": [
    {
     "name": "stdout",
     "output_type": "stream",
     "text": [
      "Mean Squared Error: 0.14586064916196426\n"
     ]
    }
   ],
   "source": [
    "# define the transformer\n",
    "preprocessor2 = ColumnTransformer(transformers=[\n",
    "    ('num', numeric_transformer, numeric_features2),\n",
    "    ('cat', categorical_transformer, categorical_features)\n",
    "])\n",
    "\n",
    "pipeline = Pipeline([\n",
    "    ('preprocessor', preprocessor2),\n",
    "    ('classifier', lr)\n",
    "])\n",
    "\n",
    "# Fit the model on the training data\n",
    "pipeline.fit(X_train, y_train)\n",
    "\n",
    "# Predict potholes count on the testing data\n",
    "y_pred = pipeline.predict(X_val)\n",
    "\n",
    "# Evaluate the model\n",
    "mse = mean_squared_error(y_val, y_pred)\n",
    "print(\"Mean Squared Error:\", mse)"
   ]
  },
  {
   "cell_type": "code",
   "execution_count": 21,
   "metadata": {},
   "outputs": [],
   "source": [
    "new_data = pd.DataFrame({'Model': ['Less feats + lr'], 'MSE': [mse]})\n",
    "mse_results = pd.concat([mse_results, new_data], ignore_index=True)"
   ]
  },
  {
   "cell_type": "markdown",
   "metadata": {},
   "source": [
    "3. Design some features"
   ]
  },
  {
   "cell_type": "code",
   "execution_count": 22,
   "metadata": {},
   "outputs": [],
   "source": [
    "class CustomFeatureEngineer(BaseEstimator, TransformerMixin):\n",
    "    def fit(self, X, y=None):\n",
    "        # No fitting necessary for these transformations\n",
    "        return self\n",
    "\n",
    "    def transform(self, X):\n",
    "        # Ensure you are not modifying the original dataset\n",
    "        X = X.copy()\n",
    "        \n",
    "        # Feature 1: Interaction between 'Surface Temperature' and 'Specific Humidity'\n",
    "        X['Temp_Humidity_Interaction'] = X['Surface Temperature'] * X['Specific Humidity']\n",
    "        \n",
    "        # Feature 2: Log Transformation of 'Miles' to normalize the distribution\n",
    "        # Adding 1 to avoid issues with log(0)\n",
    "        X['Log_Miles'] = np.log1p(X['Miles'])\n",
    "        \n",
    "        # Feature 3: Inverse of 'Minutes_to_closed' (adding 1 to avoid division by zero)\n",
    "        X['Inverse_Minutes_to_closed'] = 1 / (X['Minutes_to_closed'] + 1)\n",
    "        \n",
    "        return X"
   ]
  },
  {
   "cell_type": "markdown",
   "metadata": {},
   "source": [
    "Rerun with the new custom features"
   ]
  },
  {
   "cell_type": "code",
   "execution_count": 23,
   "metadata": {},
   "outputs": [
    {
     "name": "stdout",
     "output_type": "stream",
     "text": [
      "Mean Squared Error: 0.12782866315630576\n"
     ]
    }
   ],
   "source": [
    "# define the transformer\n",
    "preprocessor = ColumnTransformer(transformers=[\n",
    "    ('custom_features', CustomFeatureEngineer(), numeric_features2),\n",
    "    ('num', numeric_transformer, numeric_features2),\n",
    "    ('cat', categorical_transformer, categorical_features)\n",
    "])\n",
    "\n",
    "pipeline = Pipeline([\n",
    "    ('preprocessor', preprocessor),\n",
    "    ('classifier', lr)\n",
    "])\n",
    "\n",
    "# Fit the model on the training data\n",
    "pipeline.fit(X_train, y_train)\n",
    "\n",
    "# Predict potholes count on the testing data\n",
    "y_pred = pipeline.predict(X_val)\n",
    "\n",
    "# Evaluate the model\n",
    "mse = mean_squared_error(y_val, y_pred)\n",
    "print(\"Mean Squared Error:\", mse)"
   ]
  },
  {
   "cell_type": "markdown",
   "metadata": {},
   "source": [
    "An improved mean squared error with the custom features"
   ]
  },
  {
   "cell_type": "code",
   "execution_count": 24,
   "metadata": {},
   "outputs": [],
   "source": [
    "new_data = pd.DataFrame({'Model': ['Feat engineering + lr'], 'MSE': [mse]})\n",
    "mse_results = pd.concat([mse_results, new_data], ignore_index=True)"
   ]
  },
  {
   "cell_type": "markdown",
   "metadata": {},
   "source": [
    "4. Add binning and polnomial transformer"
   ]
  },
  {
   "cell_type": "code",
   "execution_count": 25,
   "metadata": {},
   "outputs": [
    {
     "name": "stdout",
     "output_type": "stream",
     "text": [
      "Mean Squared Error: 0.11009987486240906\n"
     ]
    }
   ],
   "source": [
    "polynomial_features = ['Temperature Range']\n",
    "binning_features = ['Shape__Length']\n",
    "\n",
    "polynomial_transformer = Pipeline(steps=[\n",
    "    ('imputer', SimpleImputer(strategy='mean')),\n",
    "    ('polynomial', PolynomialFeatures(degree=2, include_bias=False)),\n",
    "    ('scaler', StandardScaler())\n",
    "])\n",
    "\n",
    "# Define a new transformer for binning\n",
    "binning_transformer = Pipeline(steps=[\n",
    "    ('imputer', SimpleImputer(strategy='mean')),\n",
    "    ('binning', KBinsDiscretizer(n_bins=5, encode='onehot-dense', strategy='uniform')),\n",
    "    ('scaler', StandardScaler())\n",
    "])\n",
    "\n",
    "# Define the remaining numeric features that will undergo standard numeric transformation\n",
    "standard_numeric_features = list(set(numeric_features2) - set(polynomial_features) - set(binning_features))\n",
    "\n",
    "# Transformer for standard numeric features\n",
    "standard_numeric_transformer = Pipeline(steps=[\n",
    "    ('imputer', SimpleImputer(strategy='mean')),\n",
    "    ('scaler', StandardScaler())\n",
    "])\n",
    "\n",
    "# define the transformer\n",
    "preprocessor = ColumnTransformer(transformers=[\n",
    "    ('custom_features', CustomFeatureEngineer(), standard_numeric_features),\n",
    "    ('poly', polynomial_transformer, polynomial_features),\n",
    "    ('bin', binning_transformer, binning_features),\n",
    "    ('num', standard_numeric_transformer, standard_numeric_features),\n",
    "    ('cat', categorical_transformer, categorical_features)\n",
    "])\n",
    "\n",
    "pipeline = Pipeline([\n",
    "    ('preprocessor', preprocessor),\n",
    "    ('classifier', lr)\n",
    "])\n",
    "\n",
    "# Fit the model on the training data\n",
    "pipeline.fit(X_train, y_train)\n",
    "\n",
    "# Predict potholes count on the testing data\n",
    "y_pred = pipeline.predict(X_val)\n",
    "\n",
    "# Evaluate the model\n",
    "mse = mean_squared_error(y_val, y_pred)\n",
    "print(\"Mean Squared Error:\", mse)"
   ]
  },
  {
   "cell_type": "markdown",
   "metadata": {},
   "source": [
    "once again, a slightly improved MSE with binning"
   ]
  },
  {
   "cell_type": "code",
   "execution_count": 26,
   "metadata": {},
   "outputs": [],
   "source": [
    "new_data = pd.DataFrame({'Model': ['Bining, polynomial transformer + lr'], 'MSE': [mse]})\n",
    "mse_results = pd.concat([mse_results, new_data], ignore_index=True)"
   ]
  },
  {
   "cell_type": "markdown",
   "metadata": {},
   "source": [
    "5. Prevent regularization - Ridge"
   ]
  },
  {
   "cell_type": "code",
   "execution_count": 27,
   "metadata": {},
   "outputs": [
    {
     "name": "stdout",
     "output_type": "stream",
     "text": [
      "Mean Squared Error: 0.13660381600544944\n"
     ]
    }
   ],
   "source": [
    "# Ridge regression with near-zero regularization\n",
    "ridge = Ridge(alpha=1e-10)\n",
    "\n",
    "pipeline = Pipeline([\n",
    "    ('preprocessor', preprocessor),\n",
    "    ('regressor', ridge)\n",
    "])\n",
    "\n",
    "# Fit the model on the training data\n",
    "pipeline.fit(X_train, y_train)\n",
    "\n",
    "# Predict potholes count on the testing data\n",
    "y_pred = pipeline.predict(X_val)\n",
    "\n",
    "# Evaluate the model\n",
    "mse = mean_squared_error(y_val, y_pred)\n",
    "print(\"Mean Squared Error:\", mse)"
   ]
  },
  {
   "cell_type": "markdown",
   "metadata": {},
   "source": [
    "Ridge regression with minimal regularization saw a worse MSE"
   ]
  },
  {
   "cell_type": "code",
   "execution_count": 28,
   "metadata": {},
   "outputs": [],
   "source": [
    "new_data = pd.DataFrame({'Model': ['Bining, polynomial transformer + ridge'], 'MSE': [mse]})\n",
    "mse_results = pd.concat([mse_results, new_data], ignore_index=True)"
   ]
  },
  {
   "cell_type": "markdown",
   "metadata": {},
   "source": [
    "6. Prevent regularization - Lasso"
   ]
  },
  {
   "cell_type": "code",
   "execution_count": 29,
   "metadata": {},
   "outputs": [
    {
     "name": "stdout",
     "output_type": "stream",
     "text": [
      "Mean Squared Error: 0.12509829442918527\n"
     ]
    }
   ],
   "source": [
    "# Lasso regression with a specific alpha\n",
    "lasso = Lasso(alpha=0.01)\n",
    "\n",
    "pipeline = Pipeline([\n",
    "    ('preprocessor', preprocessor),\n",
    "    ('regressor', lasso)\n",
    "])\n",
    "\n",
    "# Fit the model on the training data\n",
    "pipeline.fit(X_train, y_train)\n",
    "\n",
    "# Predict potholes count on the testing data\n",
    "y_pred = pipeline.predict(X_val)\n",
    "\n",
    "# Evaluate the model\n",
    "mse = mean_squared_error(y_val, y_pred)\n",
    "print(\"Mean Squared Error:\", mse)"
   ]
  },
  {
   "cell_type": "markdown",
   "metadata": {},
   "source": [
    "Lasso regression saw a better MSE than the Ridge, but still worse than previous experiments"
   ]
  },
  {
   "cell_type": "code",
   "execution_count": 30,
   "metadata": {},
   "outputs": [],
   "source": [
    "new_data = pd.DataFrame({'Model': ['Bining, polynomial transformer + lasso'], 'MSE': [mse]})\n",
    "mse_results = pd.concat([mse_results, new_data], ignore_index=True)"
   ]
  },
  {
   "cell_type": "markdown",
   "metadata": {},
   "source": [
    "7. Prevent regularization - ElasticNet"
   ]
  },
  {
   "cell_type": "code",
   "execution_count": 31,
   "metadata": {},
   "outputs": [
    {
     "name": "stdout",
     "output_type": "stream",
     "text": [
      "Mean Squared Error: 0.12043281404147259\n"
     ]
    }
   ],
   "source": [
    "# ElasticNet regression with specific alpha and l1_ratio\n",
    "elasticnet = ElasticNet(alpha=0.01, l1_ratio=0.5)\n",
    "\n",
    "pipeline = Pipeline([\n",
    "    ('preprocessor', preprocessor),\n",
    "    ('regressor', elasticnet)\n",
    "])\n",
    "\n",
    "# Fit the model on the training data\n",
    "pipeline.fit(X_train, y_train)\n",
    "\n",
    "# Predict potholes count on the testing data\n",
    "y_pred = pipeline.predict(X_val)\n",
    "\n",
    "# Evaluate the model\n",
    "mse = mean_squared_error(y_val, y_pred)\n",
    "print(\"Mean Squared Error:\", mse)"
   ]
  },
  {
   "cell_type": "markdown",
   "metadata": {},
   "source": [
    "Elasticnet regresssion so far has the best MSE"
   ]
  },
  {
   "cell_type": "code",
   "execution_count": 32,
   "metadata": {},
   "outputs": [],
   "source": [
    "new_data = pd.DataFrame({'Model': ['Bining, polynomial transformer + elasticnet'], 'MSE': [mse]})\n",
    "mse_results = pd.concat([mse_results, new_data], ignore_index=True)"
   ]
  },
  {
   "cell_type": "markdown",
   "metadata": {},
   "source": [
    "We tried a different L1 ratio to see if we could improve the MSE"
   ]
  },
  {
   "cell_type": "code",
   "execution_count": 33,
   "metadata": {},
   "outputs": [
    {
     "name": "stdout",
     "output_type": "stream",
     "text": [
      "Mean Squared Error: 0.12233713255552044\n"
     ]
    }
   ],
   "source": [
    "# ElasticNet regression with specific alpha and l1_ratio\n",
    "elasticnet = ElasticNet(alpha=0.01, l1_ratio=0.7)\n",
    "\n",
    "pipeline = Pipeline([\n",
    "    ('preprocessor', preprocessor),\n",
    "    ('regressor', elasticnet)\n",
    "])\n",
    "\n",
    "# Fit the model on the training data\n",
    "pipeline.fit(X_train, y_train)\n",
    "\n",
    "# Predict potholes count on the testing data\n",
    "y_pred = pipeline.predict(X_val)\n",
    "\n",
    "# Evaluate the model\n",
    "mse = mean_squared_error(y_val, y_pred)\n",
    "print(\"Mean Squared Error:\", mse)"
   ]
  },
  {
   "cell_type": "markdown",
   "metadata": {},
   "source": [
    "8. New model - Random Forest"
   ]
  },
  {
   "cell_type": "code",
   "execution_count": 34,
   "metadata": {},
   "outputs": [
    {
     "name": "stdout",
     "output_type": "stream",
     "text": [
      "Mean Squared Error: 0.13370699088145896\n"
     ]
    }
   ],
   "source": [
    "# ElasticNet regression with specific n_estimators\n",
    "rf_regressor = RandomForestRegressor(n_estimators=100, random_state=seed)\n",
    "\n",
    "pipeline = Pipeline([\n",
    "    ('preprocessor', preprocessor),\n",
    "    ('RandomForest', rf_regressor)\n",
    "])\n",
    "\n",
    "# Fit the model on the training data\n",
    "pipeline.fit(X_train, y_train)\n",
    "\n",
    "# Predict potholes count on the testing data\n",
    "y_pred = pipeline.predict(X_val)\n",
    "\n",
    "# Evaluate the model\n",
    "mse = mean_squared_error(y_val, y_pred)\n",
    "print(\"Mean Squared Error:\", mse)"
   ]
  },
  {
   "cell_type": "code",
   "execution_count": 35,
   "metadata": {},
   "outputs": [],
   "source": [
    "new_data = pd.DataFrame({'Model': ['Bining, polynomial transformer + RF'], 'MSE': [mse]})\n",
    "mse_results = pd.concat([mse_results, new_data], ignore_index=True)"
   ]
  },
  {
   "cell_type": "markdown",
   "metadata": {},
   "source": [
    "We tried a different number of n_estimators, but didn't see an imporvement"
   ]
  },
  {
   "cell_type": "code",
   "execution_count": 36,
   "metadata": {},
   "outputs": [
    {
     "name": "stdout",
     "output_type": "stream",
     "text": [
      "Mean Squared Error: 0.1374772036474164\n"
     ]
    }
   ],
   "source": [
    "# ElasticNet regression with specific n_estimators\n",
    "rf_regressor = RandomForestRegressor(n_estimators=10, random_state=seed)\n",
    "\n",
    "pipeline = Pipeline([\n",
    "    ('preprocessor', preprocessor),\n",
    "    ('RandomForest', rf_regressor)\n",
    "])\n",
    "\n",
    "# Fit the model on the training data\n",
    "pipeline.fit(X_train, y_train)\n",
    "\n",
    "# Predict potholes count on the testing data\n",
    "y_pred = pipeline.predict(X_val)\n",
    "\n",
    "# Evaluate the model\n",
    "mse = mean_squared_error(y_val, y_pred)\n",
    "print(\"Mean Squared Error:\", mse)"
   ]
  },
  {
   "cell_type": "markdown",
   "metadata": {},
   "source": [
    "We then tried adding in max depth and saw a minor improvement"
   ]
  },
  {
   "cell_type": "code",
   "execution_count": 37,
   "metadata": {},
   "outputs": [
    {
     "name": "stdout",
     "output_type": "stream",
     "text": [
      "Mean Squared Error: 0.1336955288897454\n"
     ]
    }
   ],
   "source": [
    "# ElasticNet regression with specific alpha and l1_ratio\n",
    "rf_regressor = RandomForestRegressor(n_estimators=100, max_depth= 20, random_state=seed)\n",
    "\n",
    "pipeline = Pipeline([\n",
    "    ('preprocessor', preprocessor),\n",
    "    ('RandomForest', rf_regressor)\n",
    "])\n",
    "\n",
    "# Fit the model on the training data\n",
    "pipeline.fit(X_train, y_train)\n",
    "\n",
    "# Predict potholes count on the testing data\n",
    "y_pred = pipeline.predict(X_val)\n",
    "\n",
    "# Evaluate the model\n",
    "mse = mean_squared_error(y_val, y_pred)\n",
    "print(\"Mean Squared Error:\", mse)"
   ]
  },
  {
   "cell_type": "markdown",
   "metadata": {},
   "source": [
    "We reduced the max_depth down even more, and saw the best iteration so far of the randomforest regressors"
   ]
  },
  {
   "cell_type": "code",
   "execution_count": 38,
   "metadata": {},
   "outputs": [
    {
     "name": "stdout",
     "output_type": "stream",
     "text": [
      "Mean Squared Error: 0.13170630541163125\n"
     ]
    }
   ],
   "source": [
    "# ElasticNet regression with specific alpha and l1_ratio\n",
    "rf_regressor = RandomForestRegressor(n_estimators=100, max_depth= 12, random_state=seed)\n",
    "\n",
    "pipeline = Pipeline([\n",
    "    ('preprocessor', preprocessor),\n",
    "    ('RandomForest', rf_regressor)\n",
    "])\n",
    "\n",
    "# Fit the model on the training data\n",
    "pipeline.fit(X_train, y_train)\n",
    "\n",
    "# Predict potholes count on the testing data\n",
    "y_pred = pipeline.predict(X_val)\n",
    "\n",
    "# Evaluate the model\n",
    "mse = mean_squared_error(y_val, y_pred)\n",
    "print(\"Mean Squared Error:\", mse)"
   ]
  },
  {
   "cell_type": "markdown",
   "metadata": {},
   "source": [
    "9. New model - Gradient Boosting "
   ]
  },
  {
   "cell_type": "code",
   "execution_count": 39,
   "metadata": {},
   "outputs": [
    {
     "name": "stdout",
     "output_type": "stream",
     "text": [
      "Mean Squared Error: 0.12904531932761754\n"
     ]
    }
   ],
   "source": [
    "# ElasticNet regression with specific alpha and l1_ratio\n",
    "gb_regressor = GradientBoostingRegressor(n_estimators=100, random_state=seed)\n",
    "\n",
    "pipeline = Pipeline([\n",
    "    ('preprocessor', preprocessor),\n",
    "    ('GradientBoosting', gb_regressor)\n",
    "])\n",
    "\n",
    "# Fit the model on the training data\n",
    "pipeline.fit(X_train, y_train)\n",
    "\n",
    "# Predict potholes count on the testing data\n",
    "y_pred = pipeline.predict(X_val)\n",
    "\n",
    "# Evaluate the model\n",
    "mse = mean_squared_error(y_val, y_pred)\n",
    "print(\"Mean Squared Error:\", mse)"
   ]
  },
  {
   "cell_type": "code",
   "execution_count": 40,
   "metadata": {},
   "outputs": [],
   "source": [
    "new_data = pd.DataFrame({'Model': ['Bining, polynomial transformer + GB'], 'MSE': [mse]})\n",
    "mse_results = pd.concat([mse_results, new_data], ignore_index=True)"
   ]
  },
  {
   "cell_type": "markdown",
   "metadata": {},
   "source": [
    "Working with the number of n_estimators, a decrease in the quantity was not an improvement"
   ]
  },
  {
   "cell_type": "code",
   "execution_count": 41,
   "metadata": {},
   "outputs": [
    {
     "name": "stdout",
     "output_type": "stream",
     "text": [
      "Mean Squared Error: 0.167227905798311\n"
     ]
    }
   ],
   "source": [
    "# ElasticNet regression with specific alpha and l1_ratio\n",
    "gb_regressor = GradientBoostingRegressor(n_estimators=10, random_state=seed)\n",
    "\n",
    "pipeline = Pipeline([\n",
    "    ('preprocessor', preprocessor),\n",
    "    ('GradientBoosting', gb_regressor)\n",
    "])\n",
    "\n",
    "# Fit the model on the training data\n",
    "pipeline.fit(X_train, y_train)\n",
    "\n",
    "# Predict potholes count on the testing data\n",
    "y_pred = pipeline.predict(X_val)\n",
    "\n",
    "# Evaluate the model\n",
    "mse = mean_squared_error(y_val, y_pred)\n",
    "print(\"Mean Squared Error:\", mse)"
   ]
  },
  {
   "cell_type": "markdown",
   "metadata": {},
   "source": [
    "10. New model - Stacking regression"
   ]
  },
  {
   "cell_type": "code",
   "execution_count": 42,
   "metadata": {},
   "outputs": [
    {
     "name": "stdout",
     "output_type": "stream",
     "text": [
      "Mean Squared Error: 0.13606808510638302\n"
     ]
    }
   ],
   "source": [
    "# Define different regressors\n",
    "rf_regressor = RandomForestRegressor(n_estimators=100, random_state=seed)\n",
    "gb_regressor = GradientBoostingRegressor(n_estimators=100, random_state=seed)\n",
    "svm_regressor = SVR(kernel='rbf')\n",
    "\n",
    "# Define a stacking regressor\n",
    "estimators = [\n",
    "    ('rf', rf_regressor),\n",
    "    ('gb', gb_regressor),\n",
    "    ('svm', svm_regressor)\n",
    "]\n",
    "stacking_regressor = StackingRegressor(estimators=estimators, final_estimator=rf_regressor)\n",
    "\n",
    "# Update the pipeline with the stacking regressor\n",
    "pipeline = Pipeline([\n",
    "    ('preprocessor', preprocessor),\n",
    "    ('regressor', stacking_regressor)  # Using stacking of models\n",
    "])\n",
    "\n",
    "# Fit the model on the training data\n",
    "pipeline.fit(X_train, y_train)\n",
    "\n",
    "# Predict potholes count on the testing data\n",
    "y_pred = pipeline.predict(X_val)\n",
    "\n",
    "# Evaluate the model\n",
    "mse = mean_squared_error(y_val, y_pred)\n",
    "print(\"Mean Squared Error:\", mse)"
   ]
  },
  {
   "cell_type": "markdown",
   "metadata": {},
   "source": [
    "This was one of our worst models yet"
   ]
  },
  {
   "cell_type": "code",
   "execution_count": 43,
   "metadata": {},
   "outputs": [],
   "source": [
    "new_data = pd.DataFrame({'Model': ['Bining, polynomial transformer + stacking'], 'MSE': [mse]})\n",
    "mse_results = pd.concat([mse_results, new_data], ignore_index=True)"
   ]
  },
  {
   "cell_type": "markdown",
   "metadata": {},
   "source": [
    "11. New model - Voting regression"
   ]
  },
  {
   "cell_type": "code",
   "execution_count": 44,
   "metadata": {},
   "outputs": [
    {
     "name": "stdout",
     "output_type": "stream",
     "text": [
      "MSE with Voting Regressor: 0.1257755163694852\n"
     ]
    }
   ],
   "source": [
    "# Combine multiple regressors\n",
    "voting_regressor = VotingRegressor(\n",
    "    estimators=[\n",
    "        ('elastic_net', ElasticNet(alpha=0.01, l1_ratio=0.5)),\n",
    "        ('gradient_boosting', GradientBoostingRegressor(n_estimators=100)),\n",
    "        ('random_forest', RandomForestRegressor(n_estimators=100))\n",
    "    ]\n",
    ")\n",
    "\n",
    "# Update pipeline\n",
    "pipeline = Pipeline([\n",
    "    ('preprocessor', preprocessor),\n",
    "    ('regressor', voting_regressor)\n",
    "])\n",
    "\n",
    "# Fit and evaluate\n",
    "pipeline.fit(X_train, y_train)\n",
    "y_pred = pipeline.predict(X_val)\n",
    "mse = mean_squared_error(y_val, y_pred)\n",
    "print(\"MSE with Voting Regressor:\", mse)"
   ]
  },
  {
   "cell_type": "code",
   "execution_count": 45,
   "metadata": {},
   "outputs": [],
   "source": [
    "new_data = pd.DataFrame({'Model': ['Bining, polynomial transformer + voting'], 'MSE': [mse]})\n",
    "mse_results = pd.concat([mse_results, new_data], ignore_index=True)"
   ]
  },
  {
   "cell_type": "markdown",
   "metadata": {},
   "source": [
    "12. Choose the best model and tune with grid search"
   ]
  },
  {
   "cell_type": "code",
   "execution_count": 46,
   "metadata": {},
   "outputs": [
    {
     "name": "stdout",
     "output_type": "stream",
     "text": [
      "Mean Squared Error: 0.12043281404147259\n"
     ]
    },
    {
     "name": "stderr",
     "output_type": "stream",
     "text": [
      "/home/codespace/.local/lib/python3.12/site-packages/sklearn/linear_model/_coordinate_descent.py:658: ConvergenceWarning: Objective did not converge. You might want to increase the number of iterations. Duality gap: 10.945337341228349, tolerance: 0.022874956822107082\n",
      "  model = cd_fast.sparse_enet_coordinate_descent(\n",
      "/home/codespace/.local/lib/python3.12/site-packages/sklearn/linear_model/_coordinate_descent.py:658: ConvergenceWarning: Objective did not converge. You might want to increase the number of iterations. Duality gap: 11.457192811256652, tolerance: 0.023052158894645937\n",
      "  model = cd_fast.sparse_enet_coordinate_descent(\n",
      "/home/codespace/.local/lib/python3.12/site-packages/sklearn/linear_model/_coordinate_descent.py:658: ConvergenceWarning: Objective did not converge. You might want to increase the number of iterations. Duality gap: 8.982457133327149, tolerance: 0.021874611398963725\n",
      "  model = cd_fast.sparse_enet_coordinate_descent(\n",
      "/home/codespace/.local/lib/python3.12/site-packages/sklearn/linear_model/_coordinate_descent.py:658: ConvergenceWarning: Objective did not converge. You might want to increase the number of iterations. Duality gap: 10.912747831977441, tolerance: 0.022467702936096713\n",
      "  model = cd_fast.sparse_enet_coordinate_descent(\n",
      "/home/codespace/.local/lib/python3.12/site-packages/sklearn/linear_model/_coordinate_descent.py:658: ConvergenceWarning: Objective did not converge. You might want to increase the number of iterations. Duality gap: 6.139714314163486, tolerance: 0.01969724137931034\n",
      "  model = cd_fast.sparse_enet_coordinate_descent(\n",
      "/home/codespace/.local/lib/python3.12/site-packages/sklearn/linear_model/_coordinate_descent.py:658: ConvergenceWarning: Objective did not converge. You might want to increase the number of iterations. Duality gap: 11.407850981256196, tolerance: 0.022874956822107082\n",
      "  model = cd_fast.sparse_enet_coordinate_descent(\n",
      "/home/codespace/.local/lib/python3.12/site-packages/sklearn/linear_model/_coordinate_descent.py:658: ConvergenceWarning: Objective did not converge. You might want to increase the number of iterations. Duality gap: 11.991222988549833, tolerance: 0.023052158894645937\n",
      "  model = cd_fast.sparse_enet_coordinate_descent(\n",
      "/home/codespace/.local/lib/python3.12/site-packages/sklearn/linear_model/_coordinate_descent.py:658: ConvergenceWarning: Objective did not converge. You might want to increase the number of iterations. Duality gap: 9.396692735871166, tolerance: 0.021874611398963725\n",
      "  model = cd_fast.sparse_enet_coordinate_descent(\n",
      "/home/codespace/.local/lib/python3.12/site-packages/sklearn/linear_model/_coordinate_descent.py:658: ConvergenceWarning: Objective did not converge. You might want to increase the number of iterations. Duality gap: 11.418751560307339, tolerance: 0.022467702936096713\n",
      "  model = cd_fast.sparse_enet_coordinate_descent(\n",
      "/home/codespace/.local/lib/python3.12/site-packages/sklearn/linear_model/_coordinate_descent.py:658: ConvergenceWarning: Objective did not converge. You might want to increase the number of iterations. Duality gap: 6.539127707185845, tolerance: 0.01969724137931034\n",
      "  model = cd_fast.sparse_enet_coordinate_descent(\n",
      "/home/codespace/.local/lib/python3.12/site-packages/sklearn/linear_model/_coordinate_descent.py:658: ConvergenceWarning: Objective did not converge. You might want to increase the number of iterations. Duality gap: 12.774854386389782, tolerance: 0.022874956822107082\n",
      "  model = cd_fast.sparse_enet_coordinate_descent(\n",
      "/home/codespace/.local/lib/python3.12/site-packages/sklearn/linear_model/_coordinate_descent.py:658: ConvergenceWarning: Objective did not converge. You might want to increase the number of iterations. Duality gap: 13.548047037422272, tolerance: 0.023052158894645937\n",
      "  model = cd_fast.sparse_enet_coordinate_descent(\n",
      "/home/codespace/.local/lib/python3.12/site-packages/sklearn/linear_model/_coordinate_descent.py:658: ConvergenceWarning: Objective did not converge. You might want to increase the number of iterations. Duality gap: 10.523222290366924, tolerance: 0.021874611398963725\n",
      "  model = cd_fast.sparse_enet_coordinate_descent(\n",
      "/home/codespace/.local/lib/python3.12/site-packages/sklearn/linear_model/_coordinate_descent.py:658: ConvergenceWarning: Objective did not converge. You might want to increase the number of iterations. Duality gap: 12.900708424429176, tolerance: 0.022467702936096713\n",
      "  model = cd_fast.sparse_enet_coordinate_descent(\n",
      "/home/codespace/.local/lib/python3.12/site-packages/sklearn/linear_model/_coordinate_descent.py:658: ConvergenceWarning: Objective did not converge. You might want to increase the number of iterations. Duality gap: 7.659806046394587, tolerance: 0.01969724137931034\n",
      "  model = cd_fast.sparse_enet_coordinate_descent(\n",
      "/home/codespace/.local/lib/python3.12/site-packages/sklearn/linear_model/_coordinate_descent.py:658: ConvergenceWarning: Objective did not converge. You might want to increase the number of iterations. Duality gap: 6.690444285601076, tolerance: 0.022874956822107082\n",
      "  model = cd_fast.sparse_enet_coordinate_descent(\n",
      "/home/codespace/.local/lib/python3.12/site-packages/sklearn/linear_model/_coordinate_descent.py:658: ConvergenceWarning: Objective did not converge. You might want to increase the number of iterations. Duality gap: 6.512372415928178, tolerance: 0.023052158894645937\n",
      "  model = cd_fast.sparse_enet_coordinate_descent(\n",
      "/home/codespace/.local/lib/python3.12/site-packages/sklearn/linear_model/_coordinate_descent.py:658: ConvergenceWarning: Objective did not converge. You might want to increase the number of iterations. Duality gap: 9.929816860132227, tolerance: 0.021874611398963725\n",
      "  model = cd_fast.sparse_enet_coordinate_descent(\n",
      "/home/codespace/.local/lib/python3.12/site-packages/sklearn/linear_model/_coordinate_descent.py:658: ConvergenceWarning: Objective did not converge. You might want to increase the number of iterations. Duality gap: 13.930745839163743, tolerance: 0.022467702936096713\n",
      "  model = cd_fast.sparse_enet_coordinate_descent(\n",
      "/home/codespace/.local/lib/python3.12/site-packages/sklearn/linear_model/_coordinate_descent.py:658: ConvergenceWarning: Objective did not converge. You might want to increase the number of iterations. Duality gap: 8.214626986104658, tolerance: 0.01969724137931034\n",
      "  model = cd_fast.sparse_enet_coordinate_descent(\n",
      "/home/codespace/.local/lib/python3.12/site-packages/sklearn/linear_model/_coordinate_descent.py:658: ConvergenceWarning: Objective did not converge. You might want to increase the number of iterations. Duality gap: 10.895715787916263, tolerance: 0.022874956822107082\n",
      "  model = cd_fast.sparse_enet_coordinate_descent(\n",
      "/home/codespace/.local/lib/python3.12/site-packages/sklearn/linear_model/_coordinate_descent.py:658: ConvergenceWarning: Objective did not converge. You might want to increase the number of iterations. Duality gap: 15.511753529893298, tolerance: 0.023052158894645937\n",
      "  model = cd_fast.sparse_enet_coordinate_descent(\n",
      "/home/codespace/.local/lib/python3.12/site-packages/sklearn/linear_model/_coordinate_descent.py:658: ConvergenceWarning: Objective did not converge. You might want to increase the number of iterations. Duality gap: 1.737606187991009, tolerance: 0.021874611398963725\n",
      "  model = cd_fast.sparse_enet_coordinate_descent(\n",
      "/home/codespace/.local/lib/python3.12/site-packages/sklearn/linear_model/_coordinate_descent.py:658: ConvergenceWarning: Objective did not converge. You might want to increase the number of iterations. Duality gap: 2.7160768696944246, tolerance: 0.01969724137931034\n",
      "  model = cd_fast.sparse_enet_coordinate_descent(\n",
      "/home/codespace/.local/lib/python3.12/site-packages/sklearn/linear_model/_coordinate_descent.py:658: ConvergenceWarning: Objective did not converge. You might want to increase the number of iterations. Duality gap: 13.974549313101907, tolerance: 0.023052158894645937\n",
      "  model = cd_fast.sparse_enet_coordinate_descent(\n",
      "/home/codespace/.local/lib/python3.12/site-packages/sklearn/linear_model/_coordinate_descent.py:658: ConvergenceWarning: Objective did not converge. You might want to increase the number of iterations. Duality gap: 0.03306577936223398, tolerance: 0.021874611398963725\n",
      "  model = cd_fast.sparse_enet_coordinate_descent(\n",
      "/home/codespace/.local/lib/python3.12/site-packages/sklearn/linear_model/_coordinate_descent.py:658: ConvergenceWarning: Objective did not converge. You might want to increase the number of iterations. Duality gap: 14.849976442039981, tolerance: 0.022467702936096713\n",
      "  model = cd_fast.sparse_enet_coordinate_descent(\n",
      "/home/codespace/.local/lib/python3.12/site-packages/sklearn/linear_model/_coordinate_descent.py:658: ConvergenceWarning: Objective did not converge. You might want to increase the number of iterations. Duality gap: 20.663411110654984, tolerance: 0.022874956822107082\n",
      "  model = cd_fast.sparse_enet_coordinate_descent(\n",
      "/home/codespace/.local/lib/python3.12/site-packages/sklearn/linear_model/_coordinate_descent.py:658: ConvergenceWarning: Objective did not converge. You might want to increase the number of iterations. Duality gap: 22.223220767570893, tolerance: 0.023052158894645937\n",
      "  model = cd_fast.sparse_enet_coordinate_descent(\n",
      "/home/codespace/.local/lib/python3.12/site-packages/sklearn/linear_model/_coordinate_descent.py:658: ConvergenceWarning: Objective did not converge. You might want to increase the number of iterations. Duality gap: 19.38637652063105, tolerance: 0.021874611398963725\n",
      "  model = cd_fast.sparse_enet_coordinate_descent(\n",
      "/home/codespace/.local/lib/python3.12/site-packages/sklearn/linear_model/_coordinate_descent.py:658: ConvergenceWarning: Objective did not converge. You might want to increase the number of iterations. Duality gap: 20.38037546980179, tolerance: 0.022467702936096713\n",
      "  model = cd_fast.sparse_enet_coordinate_descent(\n",
      "/home/codespace/.local/lib/python3.12/site-packages/sklearn/linear_model/_coordinate_descent.py:658: ConvergenceWarning: Objective did not converge. You might want to increase the number of iterations. Duality gap: 13.00460878906949, tolerance: 0.01969724137931034\n",
      "  model = cd_fast.sparse_enet_coordinate_descent(\n",
      "/home/codespace/.local/lib/python3.12/site-packages/sklearn/linear_model/_coordinate_descent.py:658: ConvergenceWarning: Objective did not converge. You might want to increase the number of iterations. Duality gap: 6.811206363852586, tolerance: 0.022874956822107082\n",
      "  model = cd_fast.sparse_enet_coordinate_descent(\n",
      "/home/codespace/.local/lib/python3.12/site-packages/sklearn/linear_model/_coordinate_descent.py:658: ConvergenceWarning: Objective did not converge. You might want to increase the number of iterations. Duality gap: 21.90102184131685, tolerance: 0.023052158894645937\n",
      "  model = cd_fast.sparse_enet_coordinate_descent(\n",
      "/home/codespace/.local/lib/python3.12/site-packages/sklearn/linear_model/_coordinate_descent.py:658: ConvergenceWarning: Objective did not converge. You might want to increase the number of iterations. Duality gap: 19.39506813932651, tolerance: 0.021874611398963725\n",
      "  model = cd_fast.sparse_enet_coordinate_descent(\n",
      "/home/codespace/.local/lib/python3.12/site-packages/sklearn/linear_model/_coordinate_descent.py:658: ConvergenceWarning: Objective did not converge. You might want to increase the number of iterations. Duality gap: 20.98233086187084, tolerance: 0.022467702936096713\n",
      "  model = cd_fast.sparse_enet_coordinate_descent(\n",
      "/home/codespace/.local/lib/python3.12/site-packages/sklearn/linear_model/_coordinate_descent.py:658: ConvergenceWarning: Objective did not converge. You might want to increase the number of iterations. Duality gap: 12.990158309473964, tolerance: 0.01969724137931034\n",
      "  model = cd_fast.sparse_enet_coordinate_descent(\n",
      "/home/codespace/.local/lib/python3.12/site-packages/sklearn/linear_model/_coordinate_descent.py:658: ConvergenceWarning: Objective did not converge. You might want to increase the number of iterations. Duality gap: 1.0252658421290448, tolerance: 0.022467702936096713\n",
      "  model = cd_fast.sparse_enet_coordinate_descent(\n",
      "/home/codespace/.local/lib/python3.12/site-packages/sklearn/linear_model/_coordinate_descent.py:658: ConvergenceWarning: Objective did not converge. You might want to increase the number of iterations. Duality gap: 11.721911860606927, tolerance: 0.01969724137931034\n",
      "  model = cd_fast.sparse_enet_coordinate_descent(\n",
      "/home/codespace/.local/lib/python3.12/site-packages/sklearn/linear_model/_coordinate_descent.py:658: ConvergenceWarning: Objective did not converge. You might want to increase the number of iterations. Duality gap: 0.36882151497911764, tolerance: 0.022467702936096713\n",
      "  model = cd_fast.sparse_enet_coordinate_descent(\n"
     ]
    },
    {
     "name": "stdout",
     "output_type": "stream",
     "text": [
      "Best parameters: {'regressor__alpha': 0.01, 'regressor__l1_ratio': 0.1}\n",
      "Best score (MSE): 0.07927209808119069\n",
      "Validation MSE: 0.12043281404147259\n"
     ]
    },
    {
     "name": "stderr",
     "output_type": "stream",
     "text": [
      "/home/codespace/.local/lib/python3.12/site-packages/sklearn/linear_model/_coordinate_descent.py:658: ConvergenceWarning: Objective did not converge. You might want to increase the number of iterations. Duality gap: 20.78259409315129, tolerance: 0.027497790055248612\n",
      "  model = cd_fast.sparse_enet_coordinate_descent(\n"
     ]
    }
   ],
   "source": [
    "# ElasticNet regression with specific alpha and l1_ratio\n",
    "elasticnet = ElasticNet(alpha=0.01, l1_ratio=0.5)\n",
    "\n",
    "pipeline = Pipeline([\n",
    "    ('preprocessor', preprocessor),\n",
    "    ('regressor', elasticnet)\n",
    "])\n",
    "\n",
    "# Fit the model on the training data\n",
    "pipeline.fit(X_train, y_train)\n",
    "\n",
    "# Predict potholes count on the testing data\n",
    "y_pred = pipeline.predict(X_val)\n",
    "\n",
    "# Evaluate the model\n",
    "mse = mean_squared_error(y_val, y_pred)\n",
    "print(\"Mean Squared Error:\", mse)\n",
    "\n",
    "# Set up the parameter grid\n",
    "param_grid = {\n",
    "    'regressor__alpha': [0.001, 0.05, 0.01, 0.1, 1, 10],\n",
    "    'regressor__l1_ratio': [0.05, 0.1, 0.3, 0.5, 0.7, 0.9]\n",
    "}\n",
    "\n",
    "# Create a GridSearchCV object\n",
    "grid_search = GridSearchCV(pipeline, param_grid, cv=5, scoring='neg_mean_squared_error')\n",
    "\n",
    "# Fit grid_search to the training data\n",
    "grid_search.fit(X_train, y_train)\n",
    "\n",
    "# Best parameters and best score\n",
    "print(\"Best parameters:\", grid_search.best_params_)\n",
    "print(\"Best score (MSE):\", -grid_search.best_score_)\n",
    "\n",
    "# Best model\n",
    "best_model = grid_search.best_estimator_\n",
    "\n",
    "# Predict and evaluate using the best configuration\n",
    "y_test_pred = best_model.predict(X_val)\n",
    "test_mse1 = mean_squared_error(y_val, y_pred)\n",
    "print(f\"Validation MSE: {test_mse1}\")"
   ]
  },
  {
   "cell_type": "markdown",
   "metadata": {},
   "source": [
    "using gridsearch, we got the best MSE so far with the regressor alpha of 0.01, and an l1 ration of 0.1"
   ]
  },
  {
   "cell_type": "code",
   "execution_count": 47,
   "metadata": {},
   "outputs": [],
   "source": [
    "new_data = pd.DataFrame({'Model': ['best_model on val data'], 'MSE': [test_mse1]})\n",
    "mse_results = pd.concat([mse_results, new_data], ignore_index=True)"
   ]
  },
  {
   "cell_type": "markdown",
   "metadata": {},
   "source": [
    "We then used the best model on the test set, and saw the best MSE yet"
   ]
  },
  {
   "cell_type": "code",
   "execution_count": 48,
   "metadata": {},
   "outputs": [
    {
     "name": "stdout",
     "output_type": "stream",
     "text": [
      "Test MSE: 0.036961961263827565\n"
     ]
    }
   ],
   "source": [
    "y_test_pred = best_model.predict(X_test)\n",
    "test_mse2 = mean_squared_error(y_test, y_test_pred)\n",
    "print(f\"Test MSE: {test_mse2}\")"
   ]
  },
  {
   "cell_type": "code",
   "execution_count": 49,
   "metadata": {},
   "outputs": [],
   "source": [
    "new_data = pd.DataFrame({'Model': ['best_model on test data'], 'MSE': [test_mse2]})\n",
    "mse_results = pd.concat([mse_results, new_data], ignore_index=True)"
   ]
  },
  {
   "cell_type": "code",
   "execution_count": 50,
   "metadata": {},
   "outputs": [],
   "source": [
    "model_order = mse_results['Model'].iloc[::-1].tolist()"
   ]
  },
  {
   "cell_type": "code",
   "execution_count": 51,
   "metadata": {},
   "outputs": [
    {
     "name": "stderr",
     "output_type": "stream",
     "text": [
      "/tmp/ipykernel_20309/589433525.py:2: FutureWarning: \n",
      "\n",
      "Passing `palette` without assigning `hue` is deprecated and will be removed in v0.14.0. Assign the `y` variable to `hue` and set `legend=False` for the same effect.\n",
      "\n",
      "  barplot = sns.barplot(\n"
     ]
    },
    {
     "data": {
      "image/png": "[encoded data removed]",
      "text/plain": [
       "<Figure size 1200x1000 with 1 Axes>"
      ]
     },
     "metadata": {},
     "output_type": "display_data"
    }
   ],
   "source": [
    "plt.figure(figsize=(12, 10))\n",
    "barplot = sns.barplot(\n",
    "    x='MSE', \n",
    "    y='Model', \n",
    "    data=mse_results,\n",
    "    palette=\"viridis\",\n",
    "    orient='h',\n",
    "    order=model_order  # Pass the reversed order of models\n",
    ")\n",
    "\n",
    "# Annotate the MSE values on the bars\n",
    "for p in barplot.patches:\n",
    "    plt.text(\n",
    "        p.get_width(),  # The end of the bar\n",
    "        p.get_y() + p.get_height() / 2,  # Center of the bar\n",
    "        f'{p.get_width():.4f}',  # The MSE value\n",
    "        va='center',  # Center vertically\n",
    "        ha='left',  # Align text to the left (after the bar end)\n",
    "        color='black',\n",
    "        fontsize=10\n",
    "    )\n",
    "\n",
    "# Set the title and labels\n",
    "plt.title('Mean Squared Error of Different Models')\n",
    "plt.xlabel('Mean Squared Error')\n",
    "plt.ylabel('Model')\n",
    "\n",
    "# Show the plot\n",
    "plt.tight_layout()\n",
    "plt.show()"
   ]
  },
  {
   "cell_type": "code",
   "execution_count": 52,
   "metadata": {},
   "outputs": [
    {
     "name": "stdout",
     "output_type": "stream",
     "text": [
      "Model saved as 'elasticnet_model.pkl'\n"
     ]
    }
   ],
   "source": [
    "# Save the model to disk\n",
    "joblib.dump(best_model, '/workspaces/IST707.Pothole-Prediction-SYR/models/elasticnet_model.pkl')\n",
    "print(\"Model saved as 'elasticnet_model.pkl'\")"
   ]
  },
  {
   "cell_type": "code",
   "execution_count": 53,
   "metadata": {},
   "outputs": [
    {
     "name": "stdout",
     "output_type": "stream",
     "text": [
      "Results saved to 'test_predictions.csv'\n"
     ]
    }
   ],
   "source": [
    "# Create a DataFrame with actual and predicted values\n",
    "results_df = pd.DataFrame({'Actual': y_test, 'Predicted': y_test_pred})\n",
    "results_df.to_csv('/workspaces/IST707.Pothole-Prediction-SYR/predictions/test_predictions.csv', index=False)\n",
    "print(\"Results saved to 'test_predictions.csv'\")"
   ]
  },
  {
   "cell_type": "markdown",
   "metadata": {},
   "source": [
    "## Conclusion\n",
    "\n",
    "This notebook walks through all of the steps that our team used to optimize our machine learning project to predict the number of potholes per year in Syracuse, NY. We used many different models with generic hyperparameters set and found that the elasticnet model was the best initially. To evaluate each of the models, we calculated the mean squared error, and looked for the smallest error. In some of the better initial models, we did some minor hyperparameter tuning to experiment, but ended up using gridsearch on the elasticnet model to find the best set of parameters to run with our model, which were a regressor alpha of 0.01, and an l1 ration of 0.1 For a final evaluation, we ran the elasticnet optimized model on the test set, and got a mean squared error on the test set of 0.0339. \n",
    "\n",
    "This model can be utilized by Syracuse, NY officials to help plan budgets for the future number of potholes that will need to be fixed. "
   ]
  }
 ],
 "metadata": {
  "kernelspec": {
   "display_name": "Python 3",
   "language": "python",
   "name": "python3"
  },
  "language_info": {
   "codemirror_mode": {
    "name": "ipython",
    "version": 3
   },
   "file_extension": ".py",
   "mimetype": "text/x-python",
   "name": "python",
   "nbconvert_exporter": "python",
   "pygments_lexer": "ipython3",
   "version": "3.10.13"
  }
 },
 "nbformat": 4,
 "nbformat_minor": 2
}
